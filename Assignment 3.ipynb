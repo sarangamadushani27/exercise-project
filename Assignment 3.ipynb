{
 "cells": [
  {
   "cell_type": "markdown",
   "id": "1ff26710-99d0-44e9-a653-3e5cbd095bec",
   "metadata": {},
   "source": [
    "# Name: Saranga Madushani  \n",
    "## Date: February 12, 2025\n"
   ]
  },
  {
   "cell_type": "code",
   "execution_count": 2,
   "id": "11628f8a-1dff-40d6-a774-5d830213e858",
   "metadata": {},
   "outputs": [
    {
     "name": "stdout",
     "output_type": "stream",
     "text": [
      "30\n"
     ]
    }
   ],
   "source": [
    "product = lambda x, y: x * y\n",
    "print(product(5, 6))  # Output: 30\n"
   ]
  },
  {
   "cell_type": "code",
   "execution_count": 3,
   "id": "292bffdd-8fde-494a-8f40-1afb876822db",
   "metadata": {},
   "outputs": [
    {
     "name": "stdout",
     "output_type": "stream",
     "text": [
      "314.1592653589793\n"
     ]
    }
   ],
   "source": [
    "import math\n",
    "\n",
    "def circle_area(radius):\n",
    "    return math.pi * radius ** 2\n",
    "\n",
    "# Test the function\n",
    "print(circle_area(10))  # Output: 314.1592653589793\n"
   ]
  },
  {
   "cell_type": "code",
   "execution_count": 4,
   "id": "ec277cf3-92df-4886-953c-a354c3e764ad",
   "metadata": {},
   "outputs": [
    {
     "name": "stdout",
     "output_type": "stream",
     "text": [
      "0.4\n"
     ]
    }
   ],
   "source": [
    "def calculator(a, b, operation):\n",
    "    if operation == 'a':  # Addition\n",
    "        return a + b\n",
    "    elif operation == 's':  # Subtraction\n",
    "        return a - b\n",
    "    elif operation == 'm':  # Multiplication\n",
    "        return a * b\n",
    "    elif operation == 'd':  # Division\n",
    "        if b != 0:\n",
    "            return a / b\n",
    "        else:\n",
    "            return \"Error: Division by zero\"\n",
    "    else:\n",
    "        return \"Error: Invalid operation\"\n",
    "\n",
    "# Test the function\n",
    "print(calculator(2, 5, 'd'))  # Output: 0.4\n"
   ]
  },
  {
   "cell_type": "code",
   "execution_count": 5,
   "id": "c0ab80de-3d2a-4c8f-89ee-cd449ff6480e",
   "metadata": {},
   "outputs": [
    {
     "name": "stdout",
     "output_type": "stream",
     "text": [
      "50\n"
     ]
    }
   ],
   "source": [
    "class Rectangle:\n",
    "    def __init__(self, length, width):\n",
    "        self.length = length\n",
    "        self.width = width\n",
    "\n",
    "    def area(self):\n",
    "        return self.length * self.width\n",
    "\n",
    "# Test the class\n",
    "r = Rectangle(5, 10)\n",
    "print(r.area())  # Output: 50\n"
   ]
  },
  {
   "cell_type": "code",
   "execution_count": null,
   "id": "af2d89f3-a749-4803-b307-f50fbde68ffa",
   "metadata": {},
   "outputs": [],
   "source": []
  }
 ],
 "metadata": {
  "kernelspec": {
   "display_name": "Python 3 (ipykernel)",
   "language": "python",
   "name": "python3"
  },
  "language_info": {
   "codemirror_mode": {
    "name": "ipython",
    "version": 3
   },
   "file_extension": ".py",
   "mimetype": "text/x-python",
   "name": "python",
   "nbconvert_exporter": "python",
   "pygments_lexer": "ipython3",
   "version": "3.13.1"
  }
 },
 "nbformat": 4,
 "nbformat_minor": 5
}
